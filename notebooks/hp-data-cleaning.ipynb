{
 "cells": [
  {
   "cell_type": "markdown",
   "metadata": {},
   "source": [
    "# Muggle to Wizard Data Cleaning"
   ]
  },
  {
   "cell_type": "code",
   "execution_count": 5,
   "metadata": {},
   "outputs": [],
   "source": [
    "!rm -rf ../data"
   ]
  },
  {
   "cell_type": "code",
   "execution_count": 6,
   "metadata": {},
   "outputs": [],
   "source": [
    "import os\n",
    "import sys\n",
    "\n",
    "module_path = '{}/code'.format(os.path.abspath(os.path.join('..')))\n",
    "if module_path not in sys.path:\n",
    "    sys.path.append(module_path)"
   ]
  },
  {
   "cell_type": "code",
   "execution_count": 7,
   "metadata": {},
   "outputs": [
    {
     "name": "stdout",
     "output_type": "stream",
     "text": [
      "Downloaded 'hp1_sorcerers_stone' to 'data/' folder.\n",
      "Downloaded 'hp2_chamber_of_secrets' to 'data/' folder.\n",
      "Downloaded 'hp3_prisioner_of_azkaban' to 'data/' folder.\n",
      "Downloaded 'hp4_globet_of_fire' to 'data/' folder.\n",
      "Downloaded 'hp5_order_of_the_phoenix' to 'data/' folder.\n",
      "Downloaded 'hp6_half_blood_prince' to 'data/' folder.\n",
      "Downloaded 'hp7_deathly_hallows' to 'data/' folder.\n",
      "Downloaded 'hp_places_list' to 'data/' folder.\n",
      "Downloaded 'hp_characters_list' to 'data/' folder.\n",
      "Downloaded 'hp_classes_list' to 'data/' folder.\n",
      "Downloaded 'hp_spells_list' to 'data/' folder.\n"
     ]
    }
   ],
   "source": [
    "import utils\n",
    "from variables import *\n",
    "\n",
    "!mkdir ../data\n",
    "utils.download_files(BOOKS)\n",
    "utils.download_files(EXTRAS)\n",
    "utils.extract_html_table(SPELLS, na_values=['—'])"
   ]
  },
  {
   "cell_type": "code",
   "execution_count": 10,
   "metadata": {},
   "outputs": [],
   "source": [
    "import glob\n",
    "import json\n",
    "import pandas as pd\n",
    "\n",
    "books, spells, extras = {}, {}, {}\n",
    "\n",
    "for f in sorted(glob.glob(os.path.join('../data', '*.txt'))):\n",
    "    with open(f, 'r', encoding='utf-8', errors='ignore') as file:\n",
    "        books[os.path.splitext(os.path.basename(f))[0]] = file.read().replace('\\n', ' ')\n",
    "        \n",
    "for f in sorted(glob.glob(os.path.join('../data', '*.csv'))):\n",
    "    extras[os.path.splitext(os.path.basename(f))[0]] = pd.read_csv(f, header=None)[0].tolist()\n",
    "        \n",
    "spells = pd.read_json(glob.glob(os.path.join('../data', '*.json'))[0], lines=True)\n",
    "spells = spells[~spells['Resulting Effect'].str.contains('game')]"
   ]
  },
  {
   "cell_type": "code",
   "execution_count": 11,
   "metadata": {},
   "outputs": [
    {
     "data": {
      "text/html": [
       "<div>\n",
       "<style scoped>\n",
       "    .dataframe tbody tr th:only-of-type {\n",
       "        vertical-align: middle;\n",
       "    }\n",
       "\n",
       "    .dataframe tbody tr th {\n",
       "        vertical-align: top;\n",
       "    }\n",
       "\n",
       "    .dataframe thead th {\n",
       "        text-align: right;\n",
       "    }\n",
       "</style>\n",
       "<table border=\"1\" class=\"dataframe\">\n",
       "  <thead>\n",
       "    <tr style=\"text-align: right;\">\n",
       "      <th></th>\n",
       "      <th>Incantation</th>\n",
       "      <th>Resulting Effect</th>\n",
       "      <th>Type</th>\n",
       "    </tr>\n",
       "  </thead>\n",
       "  <tbody>\n",
       "    <tr>\n",
       "      <th>0</th>\n",
       "      <td>Aberto</td>\n",
       "      <td>Opens objects</td>\n",
       "      <td>Charm</td>\n",
       "    </tr>\n",
       "    <tr>\n",
       "      <th>1</th>\n",
       "      <td>Accio</td>\n",
       "      <td>Summons an object</td>\n",
       "      <td>Charm</td>\n",
       "    </tr>\n",
       "    <tr>\n",
       "      <th>2</th>\n",
       "      <td>Age Line</td>\n",
       "      <td>Hides things from younger people</td>\n",
       "      <td>Enchanment</td>\n",
       "    </tr>\n",
       "    <tr>\n",
       "      <th>3</th>\n",
       "      <td>Aguamenti</td>\n",
       "      <td>Shoots water from wand.</td>\n",
       "      <td>Charm</td>\n",
       "    </tr>\n",
       "    <tr>\n",
       "      <th>4</th>\n",
       "      <td>Alarte Ascendare</td>\n",
       "      <td>Shoots things high in the air</td>\n",
       "      <td>Spell</td>\n",
       "    </tr>\n",
       "    <tr>\n",
       "      <th>5</th>\n",
       "      <td>Alohomora</td>\n",
       "      <td>Opens locked objects</td>\n",
       "      <td>Charm</td>\n",
       "    </tr>\n",
       "    <tr>\n",
       "      <th>6</th>\n",
       "      <td>Anapneo</td>\n",
       "      <td>Clears the target’s airway.</td>\n",
       "      <td>Spell</td>\n",
       "    </tr>\n",
       "    <tr>\n",
       "      <th>7</th>\n",
       "      <td>Anteoculatia</td>\n",
       "      <td>Turns head hair into antlers</td>\n",
       "      <td>Hex</td>\n",
       "    </tr>\n",
       "    <tr>\n",
       "      <th>8</th>\n",
       "      <td>Anti-Cheating</td>\n",
       "      <td>Prevents Cheating on Exams</td>\n",
       "      <td>Spell</td>\n",
       "    </tr>\n",
       "    <tr>\n",
       "      <th>9</th>\n",
       "      <td>Aparecium</td>\n",
       "      <td>Reveals invisible ink</td>\n",
       "      <td>Spell</td>\n",
       "    </tr>\n",
       "  </tbody>\n",
       "</table>\n",
       "</div>"
      ],
      "text/plain": [
       "        Incantation                  Resulting Effect        Type\n",
       "0            Aberto                     Opens objects       Charm\n",
       "1             Accio                 Summons an object       Charm\n",
       "2          Age Line  Hides things from younger people  Enchanment\n",
       "3         Aguamenti           Shoots water from wand.       Charm\n",
       "4  Alarte Ascendare     Shoots things high in the air       Spell\n",
       "5         Alohomora              Opens locked objects       Charm\n",
       "6           Anapneo       Clears the target’s airway.       Spell\n",
       "7      Anteoculatia      Turns head hair into antlers         Hex\n",
       "8     Anti-Cheating        Prevents Cheating on Exams       Spell\n",
       "9         Aparecium             Reveals invisible ink       Spell"
      ]
     },
     "execution_count": 11,
     "metadata": {},
     "output_type": "execute_result"
    }
   ],
   "source": [
    "spells.head(10)"
   ]
  },
  {
   "cell_type": "code",
   "execution_count": 12,
   "metadata": {},
   "outputs": [
    {
     "data": {
      "text/plain": [
       "dict_keys(['hp_characters_list', 'hp_classes_list', 'hp_places_list'])"
      ]
     },
     "execution_count": 12,
     "metadata": {},
     "output_type": "execute_result"
    }
   ],
   "source": [
    "extras.keys()"
   ]
  },
  {
   "cell_type": "code",
   "execution_count": 13,
   "metadata": {},
   "outputs": [
    {
     "data": {
      "text/plain": [
       "\"Harry Potter and the Sorcerer's Stone   CHAPTER ONE   THE BOY WHO LIVED   Mr. and Mrs. Dursley, of number four, Privet Drive, were proud to say that they were perfectly normal, thank you very much. They were the last people you'd expect to be involved in anything strange or mysterious, because they just didn't hold with such nonsense.   Mr. Dursley was the director of a firm called Grunnings, which made drills. He was a big, beefy man with hardly any neck, although he did have a very large musta\""
      ]
     },
     "execution_count": 13,
     "metadata": {},
     "output_type": "execute_result"
    }
   ],
   "source": [
    "books['hp1_sorcerers_stone'][:500]"
   ]
  },
  {
   "cell_type": "code",
<<<<<<< HEAD
   "execution_count": 32,
=======
   "execution_count": 130,
>>>>>>> upstream/master
   "metadata": {},
   "outputs": [
    {
     "name": "stderr",
     "output_type": "stream",
     "text": [
      "[nltk_data] Downloading package stopwords to /home/seraphybr-\n",
      "[nltk_data]     fun/nltk_data...\n",
      "[nltk_data]   Unzipping corpora/stopwords.zip.\n"
     ]
    }
   ],
   "source": [
    "try:\n",
    "    import string\n",
    "    import nltk\n",
    "    from nltk import word_tokenize, ngrams\n",
<<<<<<< HEAD
    "    nltk.download('stopwords')\n",
    "    from nltk.corpus import stopwords as sw\n",
=======
    "    from nltk.corpus import stopwords\n",
>>>>>>> upstream/master
    "except:\n",
    "    import string\n",
    "    import nltk\n",
    "    from nltk import word_tokenize, ngrams\n",
    "    nltk.download('stopwords')\n",
    "    from nltk.corpus import stopwords as sw"
   ]
  },
  {
   "cell_type": "code",
<<<<<<< HEAD
   "execution_count": 37,
=======
   "execution_count": 131,
>>>>>>> upstream/master
   "metadata": {},
   "outputs": [],
   "source": [
    "punc = str.maketrans('', '', string.punctuation)\n",
    "\n",
    "def normalize_text(text):\n",
    "    tokens = word_tokenize(text.translate(punc))    \n",
<<<<<<< HEAD
    "    stopwords = sw.words('english')\n",
    "    content = [w for w in tokens if w.lower() not in stopwords]\n",
=======
    "    sw = stopwords.words('english')\n",
    "    content = [w.lower() for w in tokens if w.lower() not in sw]\n",
>>>>>>> upstream/master
    "    return content\n",
    "    \n",
    "def get_bigrams(text):\n",
    "    tokens = word_tokenize(text.translate(punc))    \n",
    "    return ngrams(tokens, 2)\n",
    "    \n",
    "def get_trigrams(text):\n",
    "    tokens = word_tokenize(text.translate(punc))    \n",
    "    return ngrams(tokens, 3)\n",
    "\n",
    "def get_wordcount(text):\n",
<<<<<<< HEAD
    "    tokens = word_tokenize(text.translate(punc))\n",
    "    return len(tokens)\n",
    "    \n",
    "def get_unique_wordcount(text):\n",
    "    tokens = word_tokenize(text.translate(punc))\n",
=======
    "    tokens = word_tokenize(text.translate(punc))    \n",
    "    return len(tokens)\n",
    "    \n",
    "def get_unique_wordcount(text):\n",
    "    tokens = word_tokenize(text.translate(punc))    \n",
>>>>>>> upstream/master
    "    return len(set(tokens))\n",
    "    \n",
    "def get_punctuation_count(text):\n",
    "    punctuation = [c for c in text if c in string.punctuation]\n",
    "    return len(punctuation)"
   ]
  },
  {
   "cell_type": "code",
<<<<<<< HEAD
   "execution_count": 38,
   "metadata": {},
   "outputs": [
    {
     "name": "stderr",
     "output_type": "stream",
     "text": [
      "[nltk_data] Downloading package punkt to /home/seraphybr-\n",
      "[nltk_data]     fun/nltk_data...\n",
      "[nltk_data]   Package punkt is already up-to-date!\n"
     ]
    },
    {
     "data": {
      "text/plain": [
       "True"
      ]
     },
     "execution_count": 38,
     "metadata": {},
     "output_type": "execute_result"
    }
   ],
   "source": [
    "nltk.download('punkt')"
   ]
  },
  {
   "cell_type": "code",
   "execution_count": 39,
=======
   "execution_count": 84,
>>>>>>> upstream/master
   "metadata": {},
   "outputs": [],
   "source": [
    "books_clean = {}\n",
    "\n",
    "for book in books.keys():\n",
    "    books_clean[book] = normalize_text(books[book])\n",
    "    books_clean['{}_bigrams'.format(book)] = get_bigrams(books[book])\n",
    "    books_clean['{}_trigrams'.format(book)] = get_trigrams(books[book])\n",
    "    books_clean['{}_wordcount'.format(book)] = get_wordcount(books[book])\n",
<<<<<<< HEAD
    "    books_clean['{}_unique_wordscount'.format(book)] = get_unique_wordcount(books[book])\n",
    "    books_clean['{}_punctuation_count'.format(book)] = get_punctuation_count(books[book])\n",
    "    "
=======
    "    books_clean['{}_unique_words_count'.format(book)] = get_unique_wordcount(books[book])\n",
    "    books_clean['{}_punctuation_count'.format(book)] = get_punctuation_count(books[book])"
>>>>>>> upstream/master
   ]
  },
  {
   "cell_type": "code",
<<<<<<< HEAD
   "execution_count": 40,
   "metadata": {},
   "outputs": [
    {
     "name": "stdout",
     "output_type": "stream",
     "text": [
      "2887\n"
     ]
    }
   ],
   "source": [
    "def count_harry(l):\n",
    "    r = 0\n",
    "    for item in l:\n",
    "        if item.lower() == 'harry':\n",
    "            r = r + 1\n",
    "    print(r)\n",
    "count_harry(books_clean['hp7_deathly_hallows'])    "
=======
   "execution_count": 87,
   "metadata": {},
   "outputs": [
    {
     "data": {
      "text/plain": [
       "dict_keys(['hp_characters_list', 'hp_classes_list', 'hp_places_list'])"
      ]
     },
     "execution_count": 87,
     "metadata": {},
     "output_type": "execute_result"
    }
   ],
   "source": [
    "books_clean.keys()"
   ]
  },
  {
   "cell_type": "code",
   "execution_count": 151,
   "metadata": {},
   "outputs": [
    {
     "data": {
      "image/png": "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\n",
      "text/plain": [
       "<Figure size 432x288 with 1 Axes>"
      ]
     },
     "metadata": {
      "needs_background": "light"
     },
     "output_type": "display_data"
    }
   ],
   "source": [
    "%matplotlib inline\n",
    "from matplotlib import pyplot as plt\n",
    "from collections import Counter\n",
    "\n",
    "all_books_t = list()\n",
    "hp = ''\n",
    "\n",
    "for b in books.keys():\n",
    "    all_books_t = all_books_t + books_clean[b]\n",
    "    hp = hp + ' ' + books[b]\n",
    "\n",
    "all_text = nltk.Text(all_books_t)\n",
    "characters = extras['hp_characters_list']\n",
    "characters = set([c.split()[0] for c in extras['hp_characters_list']] + [c.split()[-1] for c in extras['hp_characters_list']])\n",
    "characters = [t for t in characters if t != 'The']\n",
    "\n",
    "c_aux = {}\n",
    "\n",
    "for c in characters:\n",
    "    c_aux[c] = hp.count(c)\n",
    "    \n",
    "most_important_dudes = sorted(c_aux.items(), key=lambda kv: kv[1], reverse=True)\n",
    "most_important_dudes = [t[0] for t in most_important_dudes[:10]]\n",
    "most_important_dudes\n",
    "\n",
    "finltk.draw.dispersion.dispersion_plot(\n",
    "    all_text, most_important_dudes, ignore_case=False,\n",
    "    title='Word Dispersion in the Harry Potter Series'\n",
    ")"
   ]
  },
  {
   "cell_type": "code",
   "execution_count": 149,
   "metadata": {},
   "outputs": [
    {
     "data": {
      "text/plain": [
       "['Harry',\n",
       " 'Ron',\n",
       " 'Hermione',\n",
       " 'Dumbledore',\n",
       " 'Hagrid',\n",
       " 'Snape',\n",
       " 'Weasley',\n",
       " 'Malfoy',\n",
       " 'Voldemort',\n",
       " 'Potter',\n",
       " 'Sirius',\n",
       " 'Fred',\n",
       " 'Lupin',\n",
       " 'George',\n",
       " 'Neville',\n",
       " 'Ginny',\n",
       " 'McGonagall',\n",
       " 'Gryffindor',\n",
       " 'Umbridge',\n",
       " 'Moody']"
      ]
     },
     "execution_count": 149,
     "metadata": {},
     "output_type": "execute_result"
    }
   ],
   "source": []
  },
  {
   "cell_type": "code",
   "execution_count": null,
   "metadata": {},
   "outputs": [],
   "source": []
  },
  {
   "cell_type": "code",
   "execution_count": null,
   "metadata": {},
   "outputs": [],
   "source": []
  },
  {
   "cell_type": "code",
   "execution_count": 95,
   "metadata": {},
   "outputs": [
    {
     "data": {
      "text/plain": [
       "list"
      ]
     },
     "execution_count": 95,
     "metadata": {},
     "output_type": "execute_result"
    }
   ],
   "source": [
    "type(books_clean['hp1_sorcerers_stone'])"
   ]
  },
  {
   "cell_type": "code",
   "execution_count": 105,
   "metadata": {},
   "outputs": [
    {
     "data": {
      "text/plain": [
       "['harry',\n",
       " 'potter',\n",
       " 'sorcerers',\n",
       " 'stone',\n",
       " 'chapter',\n",
       " 'one',\n",
       " 'boy',\n",
       " 'lived',\n",
       " 'mr',\n",
       " 'mrs',\n",
       " 'dursley',\n",
       " 'number',\n",
       " 'four',\n",
       " 'privet',\n",
       " 'drive',\n",
       " 'proud',\n",
       " 'say',\n",
       " 'perfectly',\n",
       " 'normal',\n",
       " 'thank',\n",
       " 'much',\n",
       " 'last',\n",
       " 'people',\n",
       " 'youd',\n",
       " 'expect',\n",
       " 'involved',\n",
       " 'anything',\n",
       " 'strange',\n",
       " 'mysterious',\n",
       " 'didnt',\n",
       " 'hold',\n",
       " 'nonsense',\n",
       " 'mr',\n",
       " 'dursley',\n",
       " 'director',\n",
       " 'firm',\n",
       " 'called',\n",
       " 'grunnings',\n",
       " 'made',\n",
       " 'drills',\n",
       " 'big',\n",
       " 'beefy',\n",
       " 'man',\n",
       " 'hardly',\n",
       " 'neck',\n",
       " 'although',\n",
       " 'large',\n",
       " 'mustache',\n",
       " 'mrs',\n",
       " 'dursley',\n",
       " 'thin',\n",
       " 'blonde',\n",
       " 'nearly',\n",
       " 'twice',\n",
       " 'usual',\n",
       " 'amount',\n",
       " 'neck',\n",
       " 'came',\n",
       " 'useful',\n",
       " 'spent',\n",
       " 'much',\n",
       " 'time',\n",
       " 'craning',\n",
       " 'garden',\n",
       " 'fences',\n",
       " 'spying',\n",
       " 'neighbors',\n",
       " 'dursleys',\n",
       " 'small',\n",
       " 'son',\n",
       " 'called',\n",
       " 'dudley',\n",
       " 'opinion',\n",
       " 'finer',\n",
       " 'boy',\n",
       " 'anywhere',\n",
       " 'dursleys',\n",
       " 'everything',\n",
       " 'wanted',\n",
       " 'also',\n",
       " 'secret',\n",
       " 'greatest',\n",
       " 'fear',\n",
       " 'somebody',\n",
       " 'would',\n",
       " 'discover',\n",
       " 'didnt',\n",
       " 'think',\n",
       " 'could',\n",
       " 'bear',\n",
       " 'anyone',\n",
       " 'found',\n",
       " 'potters',\n",
       " 'mrs',\n",
       " 'potter',\n",
       " 'mrs',\n",
       " 'dursleys',\n",
       " 'sister',\n",
       " 'hadnt',\n",
       " 'met']"
      ]
     },
     "execution_count": 105,
     "metadata": {},
     "output_type": "execute_result"
    }
   ],
   "source": [
    "all_text[:100]"
>>>>>>> upstream/master
   ]
  },
  {
   "cell_type": "code",
   "execution_count": null,
   "metadata": {},
   "outputs": [],
   "source": []
  }
 ],
 "metadata": {
  "kernelspec": {
   "display_name": "Python 3",
   "language": "python",
   "name": "python3"
  },
  "language_info": {
   "codemirror_mode": {
    "name": "ipython",
    "version": 3
   },
   "file_extension": ".py",
   "mimetype": "text/x-python",
   "name": "python",
   "nbconvert_exporter": "python",
   "pygments_lexer": "ipython3",
   "version": "3.6.5"
  }
 },
 "nbformat": 4,
 "nbformat_minor": 2
}
